{
 "cells": [
  {
   "cell_type": "code",
   "execution_count": null,
   "metadata": {
    "vscode": {
     "languageId": "plaintext"
    }
   },
   "outputs": [],
   "source": [
    "import matplotlib.pyplot as plt\n",
    "from collections import Counter\n",
    "\n",
    "# Variables de conteo\n",
    "ip_counts = Counter()\n",
    "status_counts = Counter()\n",
    "\n",
    "# Lectura del archivo de logs\n",
    "log_file = \"log.txt\"\n",
    "with open(log_file, \"r\") as file:\n",
    "    logs = file.readlines()\n",
    "\n",
    "# Procesamiento de logs\n",
    "for line in logs:\n",
    "    parts = line.split()\n",
    "    ip = parts[0]\n",
    "    status_code = parts[8]\n",
    "\n",
    "    # Actualizar contadores\n",
    "    ip_counts[ip] += 1\n",
    "    status_counts[status_code] += 1\n",
    "\n",
    "# Gráfico de barras de accesos por IP\n",
    "plt.figure(figsize=(10, 6))\n",
    "plt.bar(ip_counts.keys(), ip_counts.values(), color=\"skyblue\")\n",
    "plt.xticks(rotation=90)\n",
    "plt.xlabel(\"IP\")\n",
    "plt.ylabel(\"Cantidad de Accesos\")\n",
    "plt.title(\"Cantidad de Accesos por IP\")\n",
    "plt.show()\n",
    "\n",
    "# Gráfico circular para la proporción de códigos HTTP\n",
    "status_labels = list(status_counts.keys())\n",
    "status_sizes = list(status_counts.values())\n",
    "plt.figure(figsize=(8, 8))\n",
    "plt.pie(status_sizes, labels=status_labels, autopct=\"%1.1f%%\", startangle=140)\n",
    "plt.title(\"Proporción de Códigos HTTP\")\n",
    "plt.show()\n"
   ]
  }
 ],
 "metadata": {
  "kernelspec": {
   "display_name": "Python 3 (ipykernel)",
   "language": "python",
   "name": "python3"
  },
  "language_info": {
   "codemirror_mode": {
    "name": "ipython",
    "version": 3
   },
   "file_extension": ".py",
   "mimetype": "text/x-python",
   "name": "python",
   "nbconvert_exporter": "python",
   "pygments_lexer": "ipython3",
   "version": "3.12.5"
  }
 },
 "nbformat": 4,
 "nbformat_minor": 4
}
